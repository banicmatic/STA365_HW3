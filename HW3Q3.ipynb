{
 "cells": [
  {
   "cell_type": "markdown",
   "id": "94cf0a42-a9c6-4b81-ad8a-04f897146209",
   "metadata": {},
   "source": [
    "$\\large\n",
    "\\textbf{ Derivation of } p(\\theta \\mid x):\n",
    "$\n",
    "\n",
    "$$\n",
    "p(\\theta \\mid x) \\propto p(x \\mid \\theta) \\cdot p(\\theta)\n",
    "$$\n",
    "\n",
    "$$\n",
    "\\propto \\frac{n!}{x_1! x_2! \\cdots x_k!} \\prod_{i=1}^k \\theta_i^{x_i} \\cdot \\frac{\\Gamma\\left(\\sum_{i=1}^k \\alpha_i\\right)}{\\prod_{i=1}^k \\Gamma(\\alpha_i)} \\prod_{i=1}^k \\theta_i^{\\alpha_i - 1}\n",
    "$$\n",
    "\n",
    "$$\n",
    "\\propto \\prod_{i=1}^k \\theta_i^{x_i} \\cdot \\prod_{i=1}^k \\theta_i^{\\alpha_i - 1}\n",
    "$$\n",
    "\n",
    "$$\n",
    "\\propto \\prod_{i=1}^k \\theta_i^{x_i + \\alpha_i - 1}.\n",
    "$$\n"
   ]
  },
  {
   "cell_type": "markdown",
   "id": "79e0fa74-fb94-40bf-b8ba-02e275a74881",
   "metadata": {},
   "source": [
    "This is the kernel of a Dirichlet distribution:\n",
    "\n",
    "$$\n",
    "p(\\theta \\mid x) \\sim \\text{Dirichlet}(x_1 + \\alpha_1, x_2 + \\alpha_2, \\dots, x_k + \\alpha_k).\n",
    "$$\n",
    "\n",
    "**Result:** The posterior is a Dirichlet distribution with updated parameters \n",
    "$$\n",
    "(x_i + \\alpha_i) for  (i = 1, 2, \\dots, k).\n",
    "$$\n"
   ]
  }
 ],
 "metadata": {
  "kernelspec": {
   "display_name": "Python 3 (ipykernel)",
   "language": "python",
   "name": "python3"
  },
  "language_info": {
   "codemirror_mode": {
    "name": "ipython",
    "version": 3
   },
   "file_extension": ".py",
   "mimetype": "text/x-python",
   "name": "python",
   "nbconvert_exporter": "python",
   "pygments_lexer": "ipython3",
   "version": "3.11.6"
  }
 },
 "nbformat": 4,
 "nbformat_minor": 5
}
